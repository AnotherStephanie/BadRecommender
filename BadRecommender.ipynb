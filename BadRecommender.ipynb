{
 "cells": [
  {
   "cell_type": "code",
   "execution_count": null,
   "metadata": {},
   "outputs": [],
   "source": [
    "\"\"\"\n",
    "Created on Tue Jun  4 22:47:55 2019\n",
    "Uses goodbooks 10k: \n",
    "    https://github.com/zygmuntz/goodbooks-10k\n",
    " adapts tutorial https://towardsdatascience.com/how-to-build-a-simple-recommender-system-in-python-375093c3fb7d\n",
    "\n",
    "@author: stef\n",
    "\"\"\"\n",
    "\n",
    "import pandas as pd\n",
    "import numpy as np\n"
   ]
  },
  {
   "cell_type": "code",
   "execution_count": null,
   "metadata": {},
   "outputs": [],
   "source": [
    "#getting the data from github, merging into main DF\n",
    "dfR = pd.read_csv( 'https://raw.githubusercontent.com/zygmuntz/goodbooks-10k/master/ratings.csv' )\n",
    "dfB = pd.read_csv('https://raw.githubusercontent.com/zygmuntz/goodbooks-10k/master/books.csv')\n",
    "\n",
    "df = pd.merge(dfR, dfB, on='book_id')\n"
   ]
  },
  {
   "cell_type": "code",
   "execution_count": 13,
   "metadata": {},
   "outputs": [],
   "source": [
    "#create ratings data frame: avg rating for each movie, and number of ratings. \n",
    "ratings = pd.DataFrame(df.groupby('title')['rating'].mean())"
   ]
  },
  {
   "cell_type": "markdown",
   "metadata": {},
   "source": [
    "Now I'm adding another column for number of ratings. "
   ]
  },
  {
   "cell_type": "code",
   "execution_count": 14,
   "metadata": {},
   "outputs": [],
   "source": [
    "ratings['number_of_ratings'] = df.groupby('title')['rating'].count()"
   ]
  },
  {
   "cell_type": "markdown",
   "metadata": {},
   "source": [
    "Now to plot a histogram of all of the ratings and all of the rating counts...."
   ]
  },
  {
   "cell_type": "code",
   "execution_count": 6,
   "metadata": {},
   "outputs": [
    {
     "data": {
      "text/plain": [
       "<matplotlib.axes._subplots.AxesSubplot at 0x11ea68b38>"
      ]
     },
     "execution_count": 6,
     "metadata": {},
     "output_type": "execute_result"
    }
   ],
   "source": [
    "ratings['number_of_ratings'].hist(bins=60)"
   ]
  },
  {
   "cell_type": "markdown",
   "metadata": {},
   "source": [
    "Now I'm going to create a scatterplot of ratings and rating counts. "
   ]
  },
  {
   "cell_type": "markdown",
   "metadata": {},
   "source": [
    "Now I'm going to build a simple item-based recommender. Note that eventually I think I want a user-based recommender for this system, but let's start here. \n",
    "\n",
    "First, I'm making a matrix: index is user IDs, columns are titles, and the values of the matrix are the users' ratings for those titles."
   ]
  },
  {
   "cell_type": "code",
   "execution_count": 15,
   "metadata": {},
   "outputs": [],
   "source": [
    "book_matrix = df.pivot_table(index=\"user_id\", columns=\"title\", values=\"rating\")\n",
    "\n"
   ]
  },
  {
   "cell_type": "markdown",
   "metadata": {},
   "source": [
    "Now I'm sorting the ratings dataframe so that the top-rated items are first. "
   ]
  },
  {
   "cell_type": "markdown",
   "metadata": {},
   "source": [
    "OK. Now for the bit where we input a book title. "
   ]
  },
  {
   "cell_type": "code",
   "execution_count": null,
   "metadata": {},
   "outputs": [],
   "source": [
    "myBook = input(\"Please enter the complete title of a book you enjoyed. \")\n"
   ]
  },
  {
   "cell_type": "code",
   "execution_count": 40,
   "metadata": {},
   "outputs": [],
   "source": [
    "myBook_user_rating = book_matrix[myBook]\n"
   ]
  },
  {
   "cell_type": "markdown",
   "metadata": {},
   "source": [
    "Now we get correlations with the book"
   ]
  },
  {
   "cell_type": "code",
   "execution_count": 41,
   "metadata": {},
   "outputs": [],
   "source": [
    "similar_to_myBook=book_matrix.corrwith(myBook_user_rating)"
   ]
  },
  {
   "cell_type": "code",
   "execution_count": 42,
   "metadata": {},
   "outputs": [
    {
     "name": "stdout",
     "output_type": "stream",
     "text": [
      "If you liked The Wind in the Willows, you'll love: \n"
     ]
    },
    {
     "data": {
      "text/html": [
       "<div>\n",
       "<style scoped>\n",
       "    .dataframe tbody tr th:only-of-type {\n",
       "        vertical-align: middle;\n",
       "    }\n",
       "\n",
       "    .dataframe tbody tr th {\n",
       "        vertical-align: top;\n",
       "    }\n",
       "\n",
       "    .dataframe thead th {\n",
       "        text-align: right;\n",
       "    }\n",
       "</style>\n",
       "<table border=\"1\" class=\"dataframe\">\n",
       "  <thead>\n",
       "    <tr style=\"text-align: right;\">\n",
       "      <th></th>\n",
       "      <th>Correlation</th>\n",
       "    </tr>\n",
       "    <tr>\n",
       "      <th>title</th>\n",
       "      <th></th>\n",
       "    </tr>\n",
       "  </thead>\n",
       "  <tbody>\n",
       "    <tr>\n",
       "      <th>Moonlight Mile (Kenzie &amp; Gennaro,#6)</th>\n",
       "      <td>1.0</td>\n",
       "    </tr>\n",
       "    <tr>\n",
       "      <th>The Voice of the Night</th>\n",
       "      <td>1.0</td>\n",
       "    </tr>\n",
       "    <tr>\n",
       "      <th>The Physician (Cole Family Trilogy, #1)</th>\n",
       "      <td>1.0</td>\n",
       "    </tr>\n",
       "    <tr>\n",
       "      <th>The End of Mr. Y</th>\n",
       "      <td>1.0</td>\n",
       "    </tr>\n",
       "    <tr>\n",
       "      <th>The Darkest Minds (The Darkest Minds, #1)</th>\n",
       "      <td>1.0</td>\n",
       "    </tr>\n",
       "    <tr>\n",
       "      <th>Falling Man</th>\n",
       "      <td>1.0</td>\n",
       "    </tr>\n",
       "    <tr>\n",
       "      <th>Twilight: The Graphic Novel, Vol. 2  (Twilight: The Graphic Novel, #2)</th>\n",
       "      <td>1.0</td>\n",
       "    </tr>\n",
       "    <tr>\n",
       "      <th>The Path Between the Seas: The Creation of the Panama Canal, 1870-1914</th>\n",
       "      <td>1.0</td>\n",
       "    </tr>\n",
       "    <tr>\n",
       "      <th>Onyx (Lux, #2)</th>\n",
       "      <td>1.0</td>\n",
       "    </tr>\n",
       "    <tr>\n",
       "      <th>Fallen Too Far (Rosemary Beach, #1; Too Far, #1)</th>\n",
       "      <td>1.0</td>\n",
       "    </tr>\n",
       "  </tbody>\n",
       "</table>\n",
       "</div>"
      ],
      "text/plain": [
       "                                                    Correlation\n",
       "title                                                          \n",
       "Moonlight Mile (Kenzie & Gennaro,#6)                        1.0\n",
       "The Voice of the Night                                      1.0\n",
       "The Physician (Cole Family Trilogy, #1)                     1.0\n",
       "The End of Mr. Y                                            1.0\n",
       "The Darkest Minds (The Darkest Minds, #1)                   1.0\n",
       "Falling Man                                                 1.0\n",
       "Twilight: The Graphic Novel, Vol. 2  (Twilight:...          1.0\n",
       "The Path Between the Seas: The Creation of the ...          1.0\n",
       "Onyx (Lux, #2)                                              1.0\n",
       "Fallen Too Far (Rosemary Beach, #1; Too Far, #1)            1.0"
      ]
     },
     "execution_count": 42,
     "metadata": {},
     "output_type": "execute_result"
    }
   ],
   "source": [
    "corr_mb = pd.DataFrame(similar_to_myBook, columns=['Correlation'])\n",
    "corr_mb.dropna(inplace=True)\n",
    "checkmb= corr_mb.loc[ratings['number_of_ratings'] > 100]\n",
    "\n",
    "print(\"If you liked {}, you'll love: \".format(myBook))\n",
    "checkmb.sort_values(by='Correlation', ascending=False).head(10)"
   ]
  },
  {
   "cell_type": "code",
   "execution_count": null,
   "metadata": {},
   "outputs": [],
   "source": []
  }
 ],
 "metadata": {
  "kernelspec": {
   "display_name": "Python 3",
   "language": "python",
   "name": "python3"
  },
  "language_info": {
   "codemirror_mode": {
    "name": "ipython",
    "version": 3
   },
   "file_extension": ".py",
   "mimetype": "text/x-python",
   "name": "python",
   "nbconvert_exporter": "python",
   "pygments_lexer": "ipython3",
   "version": "3.7.3"
  }
 },
 "nbformat": 4,
 "nbformat_minor": 2
}
